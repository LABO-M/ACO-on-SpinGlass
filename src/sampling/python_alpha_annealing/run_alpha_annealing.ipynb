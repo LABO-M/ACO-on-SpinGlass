{
 "cells": [
  {
   "cell_type": "code",
   "execution_count": 53,
   "metadata": {},
   "outputs": [],
   "source": [
    "import torch\n",
    "import simulation\n",
    "import output\n",
    "import importlib\n",
    "importlib.reload(simulation)\n",
    "importlib.reload(output)\n",
    "\n",
    "device = torch.device(\"cuda\" if torch.cuda.is_available() else \"cpu\")\n",
    "n = 100\n",
    "start_seed = 42\n",
    "seed = 42\n",
    "iter = 1e6\n",
    "energy_series = []\n",
    "\n",
    "spins, h, J, st, st1, alpha, alpha_inc = simulation.initialize_spinglass(n, seed, device)\n",
    "\n",
    "for i in range(int(iter)):\n",
    "    torch.manual_seed(seed)\n",
    "    spins = 2 * (simulation.decision_probabilities(st, st1, alpha) > torch.rand(n, device=device)) - 1\n",
    "    st += torch.exp(simulation.calculate_energy(spins, h, J))\n",
    "    st1 += st * ((spins + 1) / 2)\n",
    "    alpha += alpha_inc\n",
    "    energy_series.append(simulation.calculate_energy(spins, h, J).cpu().item())\n",
    "    seed += 1\n",
    "\n",
    "energy_series.insert(0, 'energy')\n",
    "file_name = 'hoge'\n",
    "output.list_to_csv(file_name, energy_series, start_seed, iter)"
   ]
  },
  {
   "cell_type": "code",
   "execution_count": 88,
   "metadata": {},
   "outputs": [],
   "source": [
    "# Homogeneous fully connected ising model(tau=infinity)\n",
    "\n",
    "import torch\n",
    "import simulation\n",
    "import output\n",
    "import importlib\n",
    "importlib.reload(simulation)\n",
    "importlib.reload(output)\n",
    "\n",
    "device = torch.device(\"cuda\" if torch.cuda.is_available() else \"cpu\")\n",
    "n = 100\n",
    "start_seed = 42\n",
    "seed = start_seed\n",
    "iter = 1e6\n",
    "energy_series = []\n",
    "m_series = []\n",
    "\n",
    "spins, h, J, st, st1, alpha, alpha_inc = simulation.initialize_homogeneous(n, seed, iter, device)\n",
    "\n",
    "for i in range(int(iter)):\n",
    "    spins = 2 * (simulation.decision_probabilities(st, st1, alpha) > torch.rand(n, device=device)) - 1\n",
    "    st += torch.exp(-simulation.calculate_energy(spins, h, J))\n",
    "    st1 += torch.exp(-simulation.calculate_energy(spins, h, J)) * ((spins + 1) / 2)\n",
    "    z = (st1 / st)\n",
    "    alpha += alpha_inc\n",
    "    m = 2 * alpha * (z - 0.5)\n",
    "    energy_series.append(simulation.calculate_energy(spins, h, J).cpu().item())\n",
    "    m_series.append(m.tolist())\n",
    "    seed += 1\n",
    "\n",
    "energy_series.insert(0, 'energy')\n",
    "energy_file_name = 'tauinf_homo_energy'\n",
    "m_file_name = 'tauinf_homo_m'\n",
    "output.list_to_csv(energy_file_name, energy_series, start_seed, iter)\n",
    "output.matrix_to_csv(m_file_name, m_series, start_seed, iter)"
   ]
  },
  {
   "cell_type": "code",
   "execution_count": 89,
   "metadata": {},
   "outputs": [],
   "source": [
    "#Homogeneous fully connected ising model(tau=1e3)\n",
    "\n",
    "import torch\n",
    "import simulation\n",
    "import output\n",
    "import importlib\n",
    "importlib.reload(simulation)\n",
    "importlib.reload(output)\n",
    "\n",
    "device = torch.device(\"cuda\" if torch.cuda.is_available() else \"cpu\")\n",
    "n = 100\n",
    "tau = torch.tensor(1000, device=device)\n",
    "evaporation_rate = torch.exp(-1 / tau)\n",
    "start_seed = 43\n",
    "seed = start_seed\n",
    "iter = 1e6\n",
    "energy_series = []\n",
    "m_series = []\n",
    "\n",
    "spins, h, J, st, st1, alpha, alpha_inc = simulation.initialize_homogeneous(n, seed, iter, device)\n",
    "\n",
    "for i in range(int(iter)):\n",
    "    spins = 2 * (simulation.decision_probabilities(st, st1, alpha) > torch.rand(n, device=device)) - 1\n",
    "    st = st * evaporation_rate + torch.exp(-simulation.calculate_energy(spins, h, J))\n",
    "    st1 = st1 * evaporation_rate + torch.exp(-simulation.calculate_energy(spins, h, J)) * ((spins + 1) / 2)\n",
    "    z = (st1 / st)\n",
    "    alpha += alpha_inc\n",
    "    m = 2 * alpha * (z - 0.5)\n",
    "    energy_series.append(simulation.calculate_energy(spins, h, J).cpu().item())\n",
    "    m_series.append(m.tolist())\n",
    "    seed += 1\n",
    "\n",
    "energy_series.insert(0, 'energy')\n",
    "energy_file_name = f'tau{tau:.0e}_homo_energy'\n",
    "m_file_name = f'tau{tau:.0e}_homo_m'\n",
    "output.list_to_csv(energy_file_name, energy_series, start_seed, iter)\n",
    "output.matrix_to_csv(m_file_name, m_series, start_seed, iter)"
   ]
  },
  {
   "cell_type": "code",
   "execution_count": 50,
   "metadata": {},
   "outputs": [
    {
     "data": {
      "text/plain": [
       "np.int64(6)"
      ]
     },
     "execution_count": 50,
     "metadata": {},
     "output_type": "execute_result"
    }
   ],
   "source": [
    "import numpy as np\n",
    "a = [[1,2,3],[1,2,3]]\n",
    "#a = np.array(a)\n",
    "np.sum(a[-1])"
   ]
  },
  {
   "cell_type": "code",
   "execution_count": 26,
   "metadata": {},
   "outputs": [
    {
     "data": {
      "text/plain": [
       "tensor(6, device='cuda:0')"
      ]
     },
     "execution_count": 26,
     "metadata": {},
     "output_type": "execute_result"
    }
   ],
   "source": [
    "spins = torch.tensor([1 if torch.rand(1).item() < 0.5 else -1 for _ in range(n)], device=device)\n",
    "sum(spins)"
   ]
  }
 ],
 "metadata": {
  "kernelspec": {
   "display_name": "aco_env",
   "language": "python",
   "name": "python3"
  },
  "language_info": {
   "codemirror_mode": {
    "name": "ipython",
    "version": 3
   },
   "file_extension": ".py",
   "mimetype": "text/x-python",
   "name": "python",
   "nbconvert_exporter": "python",
   "pygments_lexer": "ipython3",
   "version": "3.12.3"
  }
 },
 "nbformat": 4,
 "nbformat_minor": 2
}
