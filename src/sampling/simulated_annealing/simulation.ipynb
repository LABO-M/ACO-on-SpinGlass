{
 "cells": [
  {
   "cell_type": "code",
   "execution_count": null,
   "metadata": {},
   "outputs": [],
   "source": [
    "#simulated annealing\n",
    "import torch\n",
    "\n",
    "# set J\n",
    "def initialize_random_parameters(n, seed):\n",
    "    torch.manual_seed(seed)\n",
    "    J = torch.normal(mean=0.0, std=1.0, size=(n, n))\n",
    "    return J\n",
    "\n",
    "# caluculate energy\n",
    "def energy(x, h, J):\n",
    "    magnetic_field = torch.sum(h * x)\n",
    "    interaction = torch.sum(J * torch.outer(x, x)) - torch.sum(torch.diagonal(J * torch.outer(x, x)))\n",
    "    \n",
    "    return -magnetic_field-interaction\n",
    "\n"
   ]
  }
 ],
 "metadata": {
  "language_info": {
   "name": "python"
  }
 },
 "nbformat": 4,
 "nbformat_minor": 2
}
