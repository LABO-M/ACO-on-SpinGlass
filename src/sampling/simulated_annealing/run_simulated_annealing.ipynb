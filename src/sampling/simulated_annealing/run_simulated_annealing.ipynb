{
 "cells": [
  {
   "cell_type": "code",
   "execution_count": 2,
   "metadata": {},
   "outputs": [],
   "source": [
    "import simulate_annealing_aco\n",
    "import output\n",
    "import importlib\n",
    "importlib.reload(simulate_annealing_aco)\n",
    "importlib.reload(output)\n",
    "\n",
    "n = 100\n",
    "initial_temperature = 100\n",
    "goal_temperature = 0.01\n",
    "seed = 43\n",
    "iter = 1e7\n",
    "\n",
    "energy_series = simulate_annealing_aco.simulation(n, initial_temperature, goal_temperature, seed, int(iter))\n",
    "energy_series.insert(0, 'energy')\n",
    "file_name = f'it{initial_temperature}_gt{goal_temperature}'\n",
    "output.list_to_csv(file_name, energy_series, seed, iter)"
   ]
  }
 ],
 "metadata": {
  "kernelspec": {
   "display_name": "myvenv",
   "language": "python",
   "name": "python3"
  },
  "language_info": {
   "codemirror_mode": {
    "name": "ipython",
    "version": 3
   },
   "file_extension": ".py",
   "mimetype": "text/x-python",
   "name": "python",
   "nbconvert_exporter": "python",
   "pygments_lexer": "ipython3",
   "version": "3.12.3"
  }
 },
 "nbformat": 4,
 "nbformat_minor": 2
}
