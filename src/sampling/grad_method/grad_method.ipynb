{
 "cells": [
  {
   "cell_type": "code",
   "execution_count": 7,
   "metadata": {},
   "outputs": [
    {
     "name": "stdout",
     "output_type": "stream",
     "text": [
      "Final mean energy: -609.9105499267578\n"
     ]
    }
   ],
   "source": [
    "import torch\n",
    "import numpy as np\n",
    "\n",
    "# mの正負に応じてイジングモデルのエネルギーを計算\n",
    "# Not devided by N-1\n",
    "def energy(m, h, J):\n",
    "    m = 2 * (m > 0.0) - 1\n",
    "    return -torch.sum(h * m) - (torch.sum(J * torch.outer(m, m)) - torch.sum(torch.diagonal(J * torch.outer(m, m))))\n",
    "\n",
    "# エネルギー計算関数 (ベクトル化)\n",
    "# Not devided by N-1\n",
    "def f(m, h, J, tau, alpha):\n",
    "    AS = -(1 - alpha) * torch.sum(torch.log(1 - m**2))\n",
    "    interaction = (torch.sum(J * torch.outer(m, m)) - torch.sum(torch.diagonal(J * torch.outer(m, m))))\n",
    "    ising = -alpha * (torch.sum(h * m) + interaction)\n",
    "    return AS + ising\n",
    "\n",
    "# 勾配計算関数 (ベクトル化)\n",
    "# Not devided by N-1\n",
    "def update(m, h, J, tau, alpha):\n",
    "    interaction_grad = -alpha * (torch.sum(J * m, dim=1) - torch.diagonal(J) * m)\n",
    "    dif = interaction_grad + (1 - alpha) * m / (1 - m**2) - alpha * h\n",
    "    return dif\n",
    "\n",
    "# 勾配降下法 (改良版)\n",
    "def gradient_descent(m, h, J, tau, alpha, max_iter=1000000, tol=1e-6):\n",
    "    learning_rate = 0.01\n",
    "    for iteration in range(max_iter):\n",
    "        grad = update(m, h, J, tau, alpha)\n",
    "        m = m - learning_rate * grad  # 勾配降下ステップ\n",
    "\n",
    "        # 停滞のチェック（勾配が小さくなる場合）\n",
    "        if torch.norm(grad) < tol:\n",
    "            alpha = min(alpha + 0.01, 0.999)  # alpha を増加\n",
    "\n",
    "        # alpha が 0.99 に達した場合、終了\n",
    "        if alpha >= 0.999:\n",
    "            break\n",
    "\n",
    "    return energy(m, h, J)\n",
    "\n",
    "# シード値の設定\n",
    "def initialize_random_parameters(n, seed):\n",
    "    torch.manual_seed(seed)\n",
    "    J = torch.normal(mean=0.0, std=1.0, size=(n, n))\n",
    "    return J\n",
    "\n",
    "# 初期条件\n",
    "device = torch.device(\"cuda\" if torch.cuda.is_available() else \"cpu\")\n",
    "seed = 42\n",
    "n = 100\n",
    "h = 0.0001\n",
    "tau = torch.tensor(1000, device=device)\n",
    "value_list = []\n",
    "\n",
    "for i in range(10):\n",
    "    m = torch.zeros(n, device=device)\n",
    "    J = initialize_random_parameters(n, seed).to(device)\n",
    "    alpha = torch.tensor(0.0, device=device)\n",
    "\n",
    "    # 勾配降下法を実行\n",
    "    value_final = gradient_descent(m, h, J, tau, alpha).cpu().item()\n",
    "\n",
    "    # リストに追加\n",
    "    value_list.append(value_final)\n",
    "\n",
    "    # modify seed value\n",
    "    seed += 1\n",
    "\n",
    "# 最終結果を出力\n",
    "print(\"Final mean energy:\", np.mean(value_list))\n"
   ]
  }
 ],
 "metadata": {
  "kernelspec": {
   "display_name": "myvenv",
   "language": "python",
   "name": "python3"
  },
  "language_info": {
   "codemirror_mode": {
    "name": "ipython",
    "version": 3
   },
   "file_extension": ".py",
   "mimetype": "text/x-python",
   "name": "python",
   "nbconvert_exporter": "python",
   "pygments_lexer": "ipython3",
   "version": "3.12.3"
  }
 },
 "nbformat": 4,
 "nbformat_minor": 2
}
