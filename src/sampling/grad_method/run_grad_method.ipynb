{
 "cells": [
  {
   "cell_type": "code",
   "execution_count": 8,
   "metadata": {},
   "outputs": [],
   "source": [
    "# To get time series of energy and alpha on modified energy form\n",
    "# Alpha anneling aco\n",
    "\n",
    "import torch\n",
    "import numpy as np\n",
    "import output\n",
    "import importlib\n",
    "import grad_aco\n",
    "importlib.reload(output)\n",
    "importlib.reload(grad_aco)\n",
    "\n",
    "# 初期条件\n",
    "device = torch.device(\"cuda\" if torch.cuda.is_available() else \"cpu\")\n",
    "n = 100\n",
    "alpha_inc = 1e-3\n",
    "iter = 1e7\n",
    "lr = 1e-3\n",
    "tol = 1e-6\n",
    "seed = 44\n",
    "\n",
    "m, h, J, initial_alpha = grad_aco.initialize_random_parameters(n, seed, device)\n",
    "# 勾配降下法を実行\n",
    "energy_series, alpha_increment_series = grad_aco.gradient_descent_annealing(m, h, J, initial_alpha, alpha_inc, int(iter), lr, tol)\n",
    "\n",
    "#save to csv file\n",
    "matrix = [[energy, alpha] for energy, alpha in zip(energy_series, alpha_increment_series)]\n",
    "matrix.insert(0, ['energy', 'alpha'])\n",
    "file_name = f'alpha{alpha_inc:.0e}_lr{lr:.0e}_tol{tol:.0e}'\n",
    "result = output.matrix_to_csv(file_name, matrix, seed, iter)"
   ]
  },
  {
   "cell_type": "code",
   "execution_count": 9,
   "metadata": {},
   "outputs": [],
   "source": [
    "# To get time series of energy on modified energy form\n",
    "# Non alpha anneling aco\n",
    "\n",
    "import torch\n",
    "import numpy as np\n",
    "import output\n",
    "import importlib\n",
    "import grad_aco\n",
    "importlib.reload(output)\n",
    "importlib.reload(grad_aco)\n",
    "\n",
    "# 初期条件\n",
    "device = torch.device(\"cuda\" if torch.cuda.is_available() else \"cpu\")\n",
    "n = 100\n",
    "alpha = 0.999\n",
    "iter = 1e7\n",
    "lr = 1e-3\n",
    "tol = 1e-6\n",
    "seed = 44\n",
    "\n",
    "m, h, J, initial_alpha = grad_aco.initialize_random_parameters(n, seed, device)\n",
    "# 勾配降下法を実行\n",
    "energy_series = grad_aco.gradient_descent(m, h, J, alpha, int(iter), lr, tol)\n",
    "\n",
    "#save to csv file\n",
    "energy_series.insert(0, 'energy')\n",
    "file_name = f'lr{lr:.0e}_tol{tol:.0e}'\n",
    "result = output.list_to_csv(file_name, energy_series, seed, iter)"
   ]
  }
 ],
 "metadata": {
  "kernelspec": {
   "display_name": "myvenv",
   "language": "python",
   "name": "python3"
  },
  "language_info": {
   "codemirror_mode": {
    "name": "ipython",
    "version": 3
   },
   "file_extension": ".py",
   "mimetype": "text/x-python",
   "name": "python",
   "nbconvert_exporter": "python",
   "pygments_lexer": "ipython3",
   "version": "3.12.3"
  }
 },
 "nbformat": 4,
 "nbformat_minor": 2
}
