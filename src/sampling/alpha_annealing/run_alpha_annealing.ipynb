{
 "cells": [
  {
   "cell_type": "code",
   "execution_count": 40,
   "metadata": {},
   "outputs": [],
   "source": [
    "import torch\n",
    "\n",
    "def initialize(n, seed, device):\n",
    "    torch.manual_seed(seed)\n",
    "    spins = torch.tensor([1 if torch.rand(1).item() < 0.5 else -1 for _ in range(n)], device=device)\n",
    "    J = torch.normal(mean=0.0, std=1.0, size=(n, n), device=device)\n",
    "    J = torch.tril(J, diagonal=-1) + torch.tril(J, diagonal=-1).T  # 下三角のみ\n",
    "    h = torch.zeros(n, device=device)  # 外部磁場\n",
    "    st = torch.ones(n, device=device) * calculate_energy(spins, h, J)\n",
    "    st1 = st * ((spins + 1) / 2)\n",
    "    return spins, h, J, st, st1\n",
    "\n",
    "def decision_probabilities(st, st1, alpha):\n",
    "    return alpha * ((st1 / st) - 0.5) + 0.5\n",
    "\n",
    "def calculate_energy(spins, h, J):\n",
    "    return -(torch.sum(h * spins) + (torch.sum(J * torch.outer(spins, spins)) / (len(spins) - 1)))\n",
    "\n"
   ]
  },
  {
   "cell_type": "code",
   "execution_count": 53,
   "metadata": {},
   "outputs": [],
   "source": [
    "import simulation\n",
    "import output\n",
    "import importlib\n",
    "importlib.reload(simulation)\n",
    "importlib.reload(output)\n",
    "\n",
    "device = torch.device(\"cuda\" if torch.cuda.is_available() else \"cpu\")\n",
    "n = 100\n",
    "start_seed = 42\n",
    "seed = 42\n",
    "iter = 1e6\n",
    "alpha = torch.tensor(0.0, device=device)\n",
    "alpha_inc = torch.tensor(1/iter, device=device)\n",
    "energy_series = []\n",
    "\n",
    "spins, h, J, st, st1 = initialize(n, seed, device)\n",
    "\n",
    "for i in range(int(iter)):\n",
    "    torch.manual_seed(seed)\n",
    "    spins = 2 * (decision_probabilities(st, st1, alpha) > torch.rand(n, device=device)) - 1\n",
    "    st += torch.exp(calculate_energy(spins, h, J))\n",
    "    st1 += st * ((spins + 1) / 2)\n",
    "    alpha += alpha_inc\n",
    "    energy_series.append(calculate_energy(spins, h, J).cpu().item())\n",
    "    seed += 1\n",
    "\n",
    "energy_series.insert(0, 'energy')\n",
    "file_name = 'hoge'\n",
    "output.list_to_csv(file_name, energy_series, start_seed, iter)"
   ]
  },
  {
   "cell_type": "code",
   "execution_count": 37,
   "metadata": {},
   "outputs": [],
   "source": [
    "import simulation\n",
    "import output\n",
    "import importlib\n",
    "importlib.reload(simulation)\n",
    "importlib.reload(output)\n",
    "\n",
    "device = torch.device(\"cuda\" if torch.cuda.is_available() else \"cpu\")\n",
    "n = 100\n",
    "start_seed = 42\n",
    "seed = 42\n",
    "iter = 1e6\n",
    "alpha = torch.tensor(0.0, device=device)\n",
    "alpha_inc = torch.tensor(1/iter, device=device)\n",
    "energy_series = []\n",
    "m_series = []\n",
    "\n",
    "spins, h, J, st, st1 = simulation.initialize(n, seed, device)\n",
    "\n",
    "for i in range(int(iter)):\n",
    "    torch.manual_seed(seed)\n",
    "    spins = 2 * (simulation.decision_probabilities(st, st1, alpha) > torch.rand(n, device=device)) - 1\n",
    "    st += torch.exp(simulation.calculate_energy(spins, h, J))\n",
    "    st1 += torch.exp(simulation.calculate_energy(spins, h, J)) * ((spins + 1) / 2)\n",
    "    z = (st1 / st)\n",
    "    alpha += alpha_inc\n",
    "    m = 2 * alpha * (z - 0.5)\n",
    "    energy_series.append(simulation.calculate_energy(spins, h, J).cpu().item())\n",
    "    m_series.append(m.tolist())\n",
    "    seed += 1\n",
    "\n",
    "energy_series.insert(0, 'energy')\n",
    "energy_file_name = 'tauinf_energy'\n",
    "m_file_name = 'tauinf_m'\n",
    "output.list_to_csv(energy_file_name, energy_series, start_seed, iter)\n",
    "output.matrix_to_csv(m_file_name, m_series, start_seed, iter)"
   ]
  },
  {
   "cell_type": "code",
   "execution_count": 29,
   "metadata": {},
   "outputs": [
    {
     "name": "stdout",
     "output_type": "stream",
     "text": [
      "tensor([0.0987, 0.0987, 0.0987], device='cuda:0')\n",
      "tensor([0.0000, 0.0000, 0.0987], device='cuda:0')\n",
      "tensor([2.8640, 2.8640, 2.8640], device='cuda:0')\n",
      "tensor([0.0000, 2.7653, 2.8640], device='cuda:0')\n"
     ]
    }
   ],
   "source": [
    "import simulation\n",
    "import torch\n",
    "import importlib\n",
    "importlib.reload(simulation)\n",
    "\n",
    "n = 3\n",
    "seed = 42\n",
    "alpha =  0.5\n",
    "device = \"cuda\"\n",
    "spins, h, J, st, st1 = simulation.initialize(n, seed, device)\n",
    "\n",
    "print(st)\n",
    "print(st1)\n",
    "\n",
    "spins = 2 * (simulation.decision_probabilities(st, st1, alpha) > torch.rand(n, device=device)) - 1\n",
    "st += torch.exp(simulation.calculate_energy(spins, h, J))\n",
    "st1 += torch.exp(simulation.calculate_energy(spins, h, J)) * ((spins + 1) / 2)\n",
    "print(st)\n",
    "print(st1)\n"
   ]
  },
  {
   "cell_type": "code",
   "execution_count": 27,
   "metadata": {},
   "outputs": [
    {
     "data": {
      "text/plain": [
       "tensor([1, 1])"
      ]
     },
     "execution_count": 27,
     "metadata": {},
     "output_type": "execute_result"
    }
   ],
   "source": [
    "a = torch.ones(2) * 0.5\n",
    "b = torch.tensor([1, 2])\n",
    "c = torch.rand(2)\n",
    "2 * (a > c) - 1"
   ]
  },
  {
   "cell_type": "code",
   "execution_count": 14,
   "metadata": {},
   "outputs": [
    {
     "name": "stdout",
     "output_type": "stream",
     "text": [
      "tensor([-1,  1])\n",
      "tensor([0., 1.])\n",
      "tensor([0., 2.])\n"
     ]
    }
   ],
   "source": [
    "spins = torch.tensor([1 if torch.rand(1).item() < 0.5 else -1 for _ in range(2)])\n",
    "print(spins)\n",
    "print((spins + 1)/2)\n",
    "print(b * ((spins + 1)/2))"
   ]
  },
  {
   "cell_type": "code",
   "execution_count": 36,
   "metadata": {},
   "outputs": [
    {
     "name": "stdout",
     "output_type": "stream",
     "text": [
      "[[2, 1]]\n"
     ]
    }
   ],
   "source": [
    "a = torch.tensor([2, 1])\n",
    "b = torch.tensor([1, 2])\n",
    "c = []\n",
    "c.append(a.tolist())\n",
    "print(c)"
   ]
  }
 ],
 "metadata": {
  "kernelspec": {
   "display_name": "aco_env",
   "language": "python",
   "name": "python3"
  },
  "language_info": {
   "codemirror_mode": {
    "name": "ipython",
    "version": 3
   },
   "file_extension": ".py",
   "mimetype": "text/x-python",
   "name": "python",
   "nbconvert_exporter": "python",
   "pygments_lexer": "ipython3",
   "version": "3.12.3"
  }
 },
 "nbformat": 4,
 "nbformat_minor": 2
}
