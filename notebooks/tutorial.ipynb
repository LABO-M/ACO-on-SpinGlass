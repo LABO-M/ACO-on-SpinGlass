{
 "cells": [
  {
   "cell_type": "code",
   "execution_count": 2,
   "metadata": {},
   "outputs": [],
   "source": [
    "import sys\n",
    "import os\n",
    "\n",
    "sys.path.append(os.path.abspath(\"../src\"))\n",
    "\n",
    "from visuals.plots import *\n"
   ]
  },
  {
   "cell_type": "code",
   "execution_count": 4,
   "metadata": {},
   "outputs": [
    {
     "name": "stdout",
     "output_type": "stream",
     "text": [
      "Running: julia ../src/sampling/modified_model/return_M/main.jl --end_alpha 0.8 --tau 1000 --seed 8000\n",
      "Running simulation with the following parameters:\n",
      "seed = 8000, N = 100, alpha = 0.8, tau = 1K, sample = 1K, h = 0.001, J = 0.1\n"
     ]
    },
    {
     "name": "stderr",
     "output_type": "stream",
     "text": [
      "Samples:   1%|▎                                         |  ETA: 1:41:41\u001b[K"
     ]
    }
   ],
   "source": [
    "alpha_list = [0.8, 0.83515, 0.9]\n",
    "tau_list = [1000, 100]\n",
    "seed = 8000\n",
    "\n",
    "for alpha in alpha_list:\n",
    "    for tau in tau_list:\n",
    "        command = f\"julia ../src/sampling/modified_model/return_M/main.jl --end_alpha {alpha} --tau {tau} --seed {seed}\"\n",
    "        print(f\"Running: {command}\")\n",
    "        os.system(command)\n"
   ]
  }
 ],
 "metadata": {
  "kernelspec": {
   "display_name": "base",
   "language": "python",
   "name": "python3"
  },
  "language_info": {
   "codemirror_mode": {
    "name": "ipython",
    "version": 3
   },
   "file_extension": ".py",
   "mimetype": "text/x-python",
   "name": "python",
   "nbconvert_exporter": "python",
   "pygments_lexer": "ipython3",
   "version": "3.12.3"
  }
 },
 "nbformat": 4,
 "nbformat_minor": 2
}
