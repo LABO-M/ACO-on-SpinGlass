{
 "cells": [
  {
   "cell_type": "code",
   "execution_count": 1,
   "metadata": {},
   "outputs": [],
   "source": [
    "import sys\n",
    "import os\n",
    "\n",
    "sys.path.append(os.path.abspath(\"../src\"))\n",
    "\n",
    "from visuals.plots import *\n"
   ]
  },
  {
   "cell_type": "code",
   "execution_count": 9,
   "metadata": {},
   "outputs": [
    {
     "name": "stdout",
     "output_type": "stream",
     "text": [
      "Running: julia ../src/sampling/modified_model/return_M/main.jl --end_alpha 0.8 --tau 1000 --seed 7000\n",
      "Running simulation with the following parameters:\n",
      "seed = 7000, N = 100, alpha = 0.8, tau = 1K, sample = 1K, h = 0.001, J = 0.1\n"
     ]
    },
    {
     "name": "stderr",
     "output_type": "stream",
     "text": [
      "Samples: 100%|██████████████████████████████████████████| Time: 1:42:19\u001b[K\n"
     ]
    },
    {
     "name": "stdout",
     "output_type": "stream",
     "text": [
      "Finished simulation\n",
      "Saved M values to /home/mori-lab/shimizu/ACO-on-SpinGlass/src/sampling/modified_model/return_M/data/seed7000/tau1K_h0.001_J0.1_α_inc1.0e-6/N100_alpha0.8_sample1K.csv\n",
      "Running: julia ../src/sampling/modified_model/return_M/main.jl --end_alpha 0.8 --tau 100 --seed 7000\n",
      "Running simulation with the following parameters:\n",
      "seed = 7000, N = 100, alpha = 0.8, tau = 100, sample = 1K, h = 0.001, J = 0.1\n"
     ]
    },
    {
     "name": "stderr",
     "output_type": "stream",
     "text": [
      "Samples: 100%|██████████████████████████████████████████| Time: 1:42:17\u001b[K\n"
     ]
    },
    {
     "name": "stdout",
     "output_type": "stream",
     "text": [
      "Finished simulation\n",
      "Saved M values to /home/mori-lab/shimizu/ACO-on-SpinGlass/src/sampling/modified_model/return_M/data/seed7000/tau100_h0.001_J0.1_α_inc1.0e-6/N100_alpha0.8_sample1K.csv\n",
      "Running: julia ../src/sampling/modified_model/return_M/main.jl --end_alpha 0.83515 --tau 1000 --seed 7000\n",
      "Running simulation with the following parameters:\n",
      "seed = 7000, N = 100, alpha = 0.83515, tau = 1K, sample = 1K, h = 0.001, J = 0.1\n"
     ]
    },
    {
     "name": "stderr",
     "output_type": "stream",
     "text": [
      "Samples: 100%|██████████████████████████████████████████| Time: 1:44:34\u001b[K\n"
     ]
    },
    {
     "name": "stdout",
     "output_type": "stream",
     "text": [
      "Finished simulation\n",
      "Saved M values to /home/mori-lab/shimizu/ACO-on-SpinGlass/src/sampling/modified_model/return_M/data/seed7000/tau1K_h0.001_J0.1_α_inc1.0e-6/N100_alpha0.83515_sample1K.csv\n",
      "Running: julia ../src/sampling/modified_model/return_M/main.jl --end_alpha 0.83515 --tau 100 --seed 7000\n",
      "Running simulation with the following parameters:\n",
      "seed = 7000, N = 100, alpha = 0.83515, tau = 100, sample = 1K, h = 0.001, J = 0.1\n"
     ]
    },
    {
     "name": "stderr",
     "output_type": "stream",
     "text": [
      "Samples: 100%|██████████████████████████████████████████| Time: 1:46:18\u001b[K\n"
     ]
    },
    {
     "name": "stdout",
     "output_type": "stream",
     "text": [
      "Finished simulation\n",
      "Saved M values to /home/mori-lab/shimizu/ACO-on-SpinGlass/src/sampling/modified_model/return_M/data/seed7000/tau100_h0.001_J0.1_α_inc1.0e-6/N100_alpha0.83515_sample1K.csv\n",
      "Running: julia ../src/sampling/modified_model/return_M/main.jl --end_alpha 0.9 --tau 1000 --seed 7000\n",
      "Running simulation with the following parameters:\n",
      "seed = 7000, N = 100, alpha = 0.9, tau = 1K, sample = 1K, h = 0.001, J = 0.1\n"
     ]
    },
    {
     "name": "stderr",
     "output_type": "stream",
     "text": [
      "Samples: 100%|██████████████████████████████████████████| Time: 1:53:39\u001b[K\n"
     ]
    },
    {
     "name": "stdout",
     "output_type": "stream",
     "text": [
      "Finished simulation\n",
      "Saved M values to /home/mori-lab/shimizu/ACO-on-SpinGlass/src/sampling/modified_model/return_M/data/seed7000/tau1K_h0.001_J0.1_α_inc1.0e-6/N100_alpha0.9_sample1K.csv\n",
      "Running: julia ../src/sampling/modified_model/return_M/main.jl --end_alpha 0.9 --tau 100 --seed 7000\n",
      "Running simulation with the following parameters:\n",
      "seed = 7000, N = 100, alpha = 0.9, tau = 100, sample = 1K, h = 0.001, J = 0.1\n"
     ]
    },
    {
     "name": "stderr",
     "output_type": "stream",
     "text": [
      "Samples: 100%|██████████████████████████████████████████| Time: 1:53:39\u001b[K\n"
     ]
    },
    {
     "name": "stdout",
     "output_type": "stream",
     "text": [
      "Finished simulation\n",
      "Saved M values to /home/mori-lab/shimizu/ACO-on-SpinGlass/src/sampling/modified_model/return_M/data/seed7000/tau100_h0.001_J0.1_α_inc1.0e-6/N100_alpha0.9_sample1K.csv\n"
     ]
    }
   ],
   "source": [
    "alpha_list = [0.8, 0.83515, 0.9]\n",
    "tau_list = [1000, 100]\n",
    "seed = 7000\n",
    "\n",
    "for alpha in alpha_list:\n",
    "    for tau in tau_list:\n",
    "        command = f\"julia ../src/sampling/modified_model/return_M/main.jl --end_alpha {alpha} --tau {tau} --seed {seed}\"\n",
    "        print(f\"Running: {command}\")\n",
    "        os.system(command)\n"
   ]
  }
 ],
 "metadata": {
  "kernelspec": {
   "display_name": "base",
   "language": "python",
   "name": "python3"
  },
  "language_info": {
   "codemirror_mode": {
    "name": "ipython",
    "version": 3
   },
   "file_extension": ".py",
   "mimetype": "text/x-python",
   "name": "python",
   "nbconvert_exporter": "python",
   "pygments_lexer": "ipython3",
   "version": "3.12.3"
  }
 },
 "nbformat": 4,
 "nbformat_minor": 2
}
